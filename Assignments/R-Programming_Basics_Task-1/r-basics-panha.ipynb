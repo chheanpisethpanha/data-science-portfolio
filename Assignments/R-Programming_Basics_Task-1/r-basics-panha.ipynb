{
 "cells": [
  {
   "cell_type": "markdown",
   "metadata": {},
   "source": [
    "# Ex1: Vector Recycling"
   ]
  },
  {
   "cell_type": "markdown",
   "metadata": {},
   "source": [
    " Vector operations between two vectors; if you have length of the vectors is of unequal lengths, then the shorter vector will be recycled in order to complete the process. Error if x's length is  not multiple of p's length."
   ]
  },
  {
   "cell_type": "code",
   "execution_count": 26,
   "metadata": {},
   "outputs": [
    {
     "data": {
      "text/html": [
       "<style>\n",
       ".list-inline {list-style: none; margin:0; padding: 0}\n",
       ".list-inline>li {display: inline-block}\n",
       ".list-inline>li:not(:last-child)::after {content: \"\\00b7\"; padding: 0 .5ex}\n",
       "</style>\n",
       "<ol class=list-inline><li>1</li><li>2</li><li>3</li></ol>\n"
      ],
      "text/latex": [
       "\\begin{enumerate*}\n",
       "\\item 1\n",
       "\\item 2\n",
       "\\item 3\n",
       "\\end{enumerate*}\n"
      ],
      "text/markdown": [
       "1. 1\n",
       "2. 2\n",
       "3. 3\n",
       "\n",
       "\n"
      ],
      "text/plain": [
       "[1] 1 2 3"
      ]
     },
     "metadata": {},
     "output_type": "display_data"
    },
    {
     "data": {
      "text/html": [
       "<style>\n",
       ".list-inline {list-style: none; margin:0; padding: 0}\n",
       ".list-inline>li {display: inline-block}\n",
       ".list-inline>li:not(:last-child)::after {content: \"\\00b7\"; padding: 0 .5ex}\n",
       "</style>\n",
       "<ol class=list-inline><li>1</li><li>2</li><li>3</li><li>4</li><li>5</li><li>6</li></ol>\n"
      ],
      "text/latex": [
       "\\begin{enumerate*}\n",
       "\\item 1\n",
       "\\item 2\n",
       "\\item 3\n",
       "\\item 4\n",
       "\\item 5\n",
       "\\item 6\n",
       "\\end{enumerate*}\n"
      ],
      "text/markdown": [
       "1. 1\n",
       "2. 2\n",
       "3. 3\n",
       "4. 4\n",
       "5. 5\n",
       "6. 6\n",
       "\n",
       "\n"
      ],
      "text/plain": [
       "[1] 1 2 3 4 5 6"
      ]
     },
     "metadata": {},
     "output_type": "display_data"
    },
    {
     "data": {
      "text/html": [
       "<style>\n",
       ".list-inline {list-style: none; margin:0; padding: 0}\n",
       ".list-inline>li {display: inline-block}\n",
       ".list-inline>li:not(:last-child)::after {content: \"\\00b7\"; padding: 0 .5ex}\n",
       "</style>\n",
       "<ol class=list-inline><li>2</li><li>4</li><li>6</li><li>5</li><li>7</li><li>9</li></ol>\n"
      ],
      "text/latex": [
       "\\begin{enumerate*}\n",
       "\\item 2\n",
       "\\item 4\n",
       "\\item 6\n",
       "\\item 5\n",
       "\\item 7\n",
       "\\item 9\n",
       "\\end{enumerate*}\n"
      ],
      "text/markdown": [
       "1. 2\n",
       "2. 4\n",
       "3. 6\n",
       "4. 5\n",
       "5. 7\n",
       "6. 9\n",
       "\n",
       "\n"
      ],
      "text/plain": [
       "[1] 2 4 6 5 7 9"
      ]
     },
     "metadata": {},
     "output_type": "display_data"
    },
    {
     "data": {
      "text/html": [
       "<style>\n",
       ".list-inline {list-style: none; margin:0; padding: 0}\n",
       ".list-inline>li {display: inline-block}\n",
       ".list-inline>li:not(:last-child)::after {content: \"\\00b7\"; padding: 0 .5ex}\n",
       "</style>\n",
       "<ol class=list-inline><li>2</li><li>4</li><li>4</li><li>6</li><li>6</li><li>8</li></ol>\n"
      ],
      "text/latex": [
       "\\begin{enumerate*}\n",
       "\\item 2\n",
       "\\item 4\n",
       "\\item 4\n",
       "\\item 6\n",
       "\\item 6\n",
       "\\item 8\n",
       "\\end{enumerate*}\n"
      ],
      "text/markdown": [
       "1. 2\n",
       "2. 4\n",
       "3. 4\n",
       "4. 6\n",
       "5. 6\n",
       "6. 8\n",
       "\n",
       "\n"
      ],
      "text/plain": [
       "[1] 2 4 4 6 6 8"
      ]
     },
     "metadata": {},
     "output_type": "display_data"
    }
   ],
   "source": [
    "x<-1:3\n",
    "x\n",
    "p<-1:6\n",
    "p\n",
    "\n",
    "#sum\n",
    "q<-p+x\n",
    "q\n",
    "\n",
    "f<-p + c(1,2)\n",
    "f"
   ]
  },
  {
   "cell_type": "markdown",
   "metadata": {},
   "source": [
    "# Ex2: Inner multiplication Vector"
   ]
  },
  {
   "cell_type": "code",
   "execution_count": 25,
   "metadata": {},
   "outputs": [
    {
     "data": {
      "text/html": [
       "<style>\n",
       ".list-inline {list-style: none; margin:0; padding: 0}\n",
       ".list-inline>li {display: inline-block}\n",
       ".list-inline>li:not(:last-child)::after {content: \"\\00b7\"; padding: 0 .5ex}\n",
       "</style>\n",
       "<ol class=list-inline><li>3</li><li>4</li><li>5</li><li>6</li><li>7</li><li>8</li><li>9</li></ol>\n"
      ],
      "text/latex": [
       "\\begin{enumerate*}\n",
       "\\item 3\n",
       "\\item 4\n",
       "\\item 5\n",
       "\\item 6\n",
       "\\item 7\n",
       "\\item 8\n",
       "\\item 9\n",
       "\\end{enumerate*}\n"
      ],
      "text/markdown": [
       "1. 3\n",
       "2. 4\n",
       "3. 5\n",
       "4. 6\n",
       "5. 7\n",
       "6. 8\n",
       "7. 9\n",
       "\n",
       "\n"
      ],
      "text/plain": [
       "[1] 3 4 5 6 7 8 9"
      ]
     },
     "metadata": {},
     "output_type": "display_data"
    },
    {
     "data": {
      "text/html": [
       "<table>\n",
       "<caption>A matrix: 1 × 1 of type dbl</caption>\n",
       "<tbody>\n",
       "\t<tr><td>280</td></tr>\n",
       "</tbody>\n",
       "</table>\n"
      ],
      "text/latex": [
       "A matrix: 1 × 1 of type dbl\n",
       "\\begin{tabular}{l}\n",
       "\t 280\\\\\n",
       "\\end{tabular}\n"
      ],
      "text/markdown": [
       "\n",
       "A matrix: 1 × 1 of type dbl\n",
       "\n",
       "| 280 |\n",
       "\n"
      ],
      "text/plain": [
       "     [,1]\n",
       "[1,] 280 "
      ]
     },
     "metadata": {},
     "output_type": "display_data"
    }
   ],
   "source": [
    "#(result scalar value)\n",
    "# use %*%\n",
    "\n",
    "a <- 3:9\n",
    "a\n",
    "a %*% a\n"
   ]
  },
  {
   "cell_type": "markdown",
   "metadata": {},
   "source": [
    "# Ex3: Outer multiplication vector "
   ]
  },
  {
   "cell_type": "code",
   "execution_count": 22,
   "metadata": {},
   "outputs": [
    {
     "data": {
      "text/html": [
       "<style>\n",
       ".list-inline {list-style: none; margin:0; padding: 0}\n",
       ".list-inline>li {display: inline-block}\n",
       ".list-inline>li:not(:last-child)::after {content: \"\\00b7\"; padding: 0 .5ex}\n",
       "</style>\n",
       "<ol class=list-inline><li>3</li><li>4</li><li>5</li><li>6</li></ol>\n"
      ],
      "text/latex": [
       "\\begin{enumerate*}\n",
       "\\item 3\n",
       "\\item 4\n",
       "\\item 5\n",
       "\\item 6\n",
       "\\end{enumerate*}\n"
      ],
      "text/markdown": [
       "1. 3\n",
       "2. 4\n",
       "3. 5\n",
       "4. 6\n",
       "\n",
       "\n"
      ],
      "text/plain": [
       "[1] 3 4 5 6"
      ]
     },
     "metadata": {},
     "output_type": "display_data"
    },
    {
     "data": {
      "text/html": [
       "<table>\n",
       "<caption>A matrix: 4 × 4 of type dbl</caption>\n",
       "<tbody>\n",
       "\t<tr><td> 9</td><td>12</td><td>15</td><td>18</td></tr>\n",
       "\t<tr><td>12</td><td>16</td><td>20</td><td>24</td></tr>\n",
       "\t<tr><td>15</td><td>20</td><td>25</td><td>30</td></tr>\n",
       "\t<tr><td>18</td><td>24</td><td>30</td><td>36</td></tr>\n",
       "</tbody>\n",
       "</table>\n"
      ],
      "text/latex": [
       "A matrix: 4 × 4 of type dbl\n",
       "\\begin{tabular}{llll}\n",
       "\t  9 & 12 & 15 & 18\\\\\n",
       "\t 12 & 16 & 20 & 24\\\\\n",
       "\t 15 & 20 & 25 & 30\\\\\n",
       "\t 18 & 24 & 30 & 36\\\\\n",
       "\\end{tabular}\n"
      ],
      "text/markdown": [
       "\n",
       "A matrix: 4 × 4 of type dbl\n",
       "\n",
       "|  9 | 12 | 15 | 18 |\n",
       "| 12 | 16 | 20 | 24 |\n",
       "| 15 | 20 | 25 | 30 |\n",
       "| 18 | 24 | 30 | 36 |\n",
       "\n"
      ],
      "text/plain": [
       "     [,1] [,2] [,3] [,4]\n",
       "[1,]  9   12   15   18  \n",
       "[2,] 12   16   20   24  \n",
       "[3,] 15   20   25   30  \n",
       "[4,] 18   24   30   36  "
      ]
     },
     "metadata": {},
     "output_type": "display_data"
    }
   ],
   "source": [
    "#use %o%\n",
    "u <- 3:6\n",
    "u\n",
    "u %o% u"
   ]
  },
  {
   "cell_type": "markdown",
   "metadata": {},
   "source": [
    "# Ex4: functions"
   ]
  },
  {
   "cell_type": "code",
   "execution_count": 4,
   "metadata": {},
   "outputs": [
    {
     "data": {
      "text/html": [
       "<style>\n",
       ".list-inline {list-style: none; margin:0; padding: 0}\n",
       ".list-inline>li {display: inline-block}\n",
       ".list-inline>li:not(:last-child)::after {content: \"\\00b7\"; padding: 0 .5ex}\n",
       "</style>\n",
       "<ol class=list-inline><li>4</li><li>2</li></ol>\n"
      ],
      "text/latex": [
       "\\begin{enumerate*}\n",
       "\\item 4\n",
       "\\item 2\n",
       "\\end{enumerate*}\n"
      ],
      "text/markdown": [
       "1. 4\n",
       "2. 2\n",
       "\n",
       "\n"
      ],
      "text/plain": [
       "[1] 4 2"
      ]
     },
     "metadata": {},
     "output_type": "display_data"
    },
    {
     "data": {
      "text/html": [
       "<style>\n",
       ".list-inline {list-style: none; margin:0; padding: 0}\n",
       ".list-inline>li {display: inline-block}\n",
       ".list-inline>li:not(:last-child)::after {content: \"\\00b7\"; padding: 0 .5ex}\n",
       "</style>\n",
       "<ol class=list-inline><li>-5</li><li>-4</li><li>-3</li><li>-2</li><li>-1</li><li>0</li><li>1</li><li>2</li><li>3</li><li>4</li><li>5</li></ol>\n"
      ],
      "text/latex": [
       "\\begin{enumerate*}\n",
       "\\item -5\n",
       "\\item -4\n",
       "\\item -3\n",
       "\\item -2\n",
       "\\item -1\n",
       "\\item 0\n",
       "\\item 1\n",
       "\\item 2\n",
       "\\item 3\n",
       "\\item 4\n",
       "\\item 5\n",
       "\\end{enumerate*}\n"
      ],
      "text/markdown": [
       "1. -5\n",
       "2. -4\n",
       "3. -3\n",
       "4. -2\n",
       "5. -1\n",
       "6. 0\n",
       "7. 1\n",
       "8. 2\n",
       "9. 3\n",
       "10. 4\n",
       "11. 5\n",
       "\n",
       "\n"
      ],
      "text/plain": [
       " [1] -5 -4 -3 -2 -1  0  1  2  3  4  5"
      ]
     },
     "metadata": {},
     "output_type": "display_data"
    },
    {
     "data": {
      "text/html": [
       "<style>\n",
       ".list-inline {list-style: none; margin:0; padding: 0}\n",
       ".list-inline>li {display: inline-block}\n",
       ".list-inline>li:not(:last-child)::after {content: \"\\00b7\"; padding: 0 .5ex}\n",
       "</style>\n",
       "<ol class=list-inline><li>8</li><li>8</li><li>8</li><li>8</li></ol>\n"
      ],
      "text/latex": [
       "\\begin{enumerate*}\n",
       "\\item 8\n",
       "\\item 8\n",
       "\\item 8\n",
       "\\item 8\n",
       "\\end{enumerate*}\n"
      ],
      "text/markdown": [
       "1. 8\n",
       "2. 8\n",
       "3. 8\n",
       "4. 8\n",
       "\n",
       "\n"
      ],
      "text/plain": [
       "[1] 8 8 8 8"
      ]
     },
     "metadata": {},
     "output_type": "display_data"
    },
    {
     "data": {
      "text/html": [
       "-1.06131666203672"
      ],
      "text/latex": [
       "-1.06131666203672"
      ],
      "text/markdown": [
       "-1.06131666203672"
      ],
      "text/plain": [
       "[1] -1.061317"
      ]
     },
     "metadata": {},
     "output_type": "display_data"
    },
    {
     "data": {
      "text/html": [
       "-1.061"
      ],
      "text/latex": [
       "-1.061"
      ],
      "text/markdown": [
       "-1.061"
      ],
      "text/plain": [
       "[1] -1.061"
      ]
     },
     "metadata": {},
     "output_type": "display_data"
    },
    {
     "data": {
      "text/html": [
       "24"
      ],
      "text/latex": [
       "24"
      ],
      "text/markdown": [
       "24"
      ],
      "text/plain": [
       "[1] 24"
      ]
     },
     "metadata": {},
     "output_type": "display_data"
    },
    {
     "data": {
      "text/html": [
       "<style>\n",
       ".list-inline {list-style: none; margin:0; padding: 0}\n",
       ".list-inline>li {display: inline-block}\n",
       ".list-inline>li:not(:last-child)::after {content: \"\\00b7\"; padding: 0 .5ex}\n",
       "</style>\n",
       "<ol class=list-inline><li>'a'</li><li>'f'</li><li>'p'</li><li>'q'</li><li>'u'</li><li>'x'</li></ol>\n"
      ],
      "text/latex": [
       "\\begin{enumerate*}\n",
       "\\item 'a'\n",
       "\\item 'f'\n",
       "\\item 'p'\n",
       "\\item 'q'\n",
       "\\item 'u'\n",
       "\\item 'x'\n",
       "\\end{enumerate*}\n"
      ],
      "text/markdown": [
       "1. 'a'\n",
       "2. 'f'\n",
       "3. 'p'\n",
       "4. 'q'\n",
       "5. 'u'\n",
       "6. 'x'\n",
       "\n",
       "\n"
      ],
      "text/plain": [
       "[1] \"a\" \"f\" \"p\" \"q\" \"u\" \"x\""
      ]
     },
     "metadata": {},
     "output_type": "display_data"
    },
    {
     "data": {
      "text/html": [
       "3.5"
      ],
      "text/latex": [
       "3.5"
      ],
      "text/markdown": [
       "3.5"
      ],
      "text/plain": [
       "[1] 3.5"
      ]
     },
     "metadata": {},
     "output_type": "display_data"
    },
    {
     "data": {
      "text/html": [
       "<style>\n",
       ".list-inline {list-style: none; margin:0; padding: 0}\n",
       ".list-inline>li {display: inline-block}\n",
       ".list-inline>li:not(:last-child)::after {content: \"\\00b7\"; padding: 0 .5ex}\n",
       "</style>\n",
       "<ol class=list-inline><li>1.1626852897838</li><li>-0.585924465893051</li><li>1.78546500331661</li><li>-1.33259371048501</li><li>-0.446566766553219</li><li>0.569606122374976</li><li>-2.88971761441412</li><li>-0.869018343326555</li><li>-0.461702683149641</li><li>-0.555540910137444</li><li>-0.0201353678515895</li><li>-0.150382224136063</li><li>-0.628126755843964</li><li>1.32322085193283</li><li>-1.52135057001199</li><li>-0.437427868856691</li><li>0.970577579543399</li><li>0.0282226444247749</li><li>-0.0857821886527593</li><li>0.389214404984942</li></ol>\n"
      ],
      "text/latex": [
       "\\begin{enumerate*}\n",
       "\\item 1.1626852897838\n",
       "\\item -0.585924465893051\n",
       "\\item 1.78546500331661\n",
       "\\item -1.33259371048501\n",
       "\\item -0.446566766553219\n",
       "\\item 0.569606122374976\n",
       "\\item -2.88971761441412\n",
       "\\item -0.869018343326555\n",
       "\\item -0.461702683149641\n",
       "\\item -0.555540910137444\n",
       "\\item -0.0201353678515895\n",
       "\\item -0.150382224136063\n",
       "\\item -0.628126755843964\n",
       "\\item 1.32322085193283\n",
       "\\item -1.52135057001199\n",
       "\\item -0.437427868856691\n",
       "\\item 0.970577579543399\n",
       "\\item 0.0282226444247749\n",
       "\\item -0.0857821886527593\n",
       "\\item 0.389214404984942\n",
       "\\end{enumerate*}\n"
      ],
      "text/markdown": [
       "1. 1.1626852897838\n",
       "2. -0.585924465893051\n",
       "3. 1.78546500331661\n",
       "4. -1.33259371048501\n",
       "5. -0.446566766553219\n",
       "6. 0.569606122374976\n",
       "7. -2.88971761441412\n",
       "8. -0.869018343326555\n",
       "9. -0.461702683149641\n",
       "10. -0.555540910137444\n",
       "11. -0.0201353678515895\n",
       "12. -0.150382224136063\n",
       "13. -0.628126755843964\n",
       "14. 1.32322085193283\n",
       "15. -1.52135057001199\n",
       "16. -0.437427868856691\n",
       "17. 0.970577579543399\n",
       "18. 0.0282226444247749\n",
       "19. -0.0857821886527593\n",
       "20. 0.389214404984942\n",
       "\n",
       "\n"
      ],
      "text/plain": [
       " [1]  1.16268529 -0.58592447  1.78546500 -1.33259371 -0.44656677  0.56960612\n",
       " [7] -2.88971761 -0.86901834 -0.46170268 -0.55554091 -0.02013537 -0.15038222\n",
       "[13] -0.62812676  1.32322085 -1.52135057 -0.43742787  0.97057758  0.02822264\n",
       "[19] -0.08578219  0.38921440"
      ]
     },
     "metadata": {},
     "output_type": "display_data"
    },
    {
     "data": {
      "text/html": [
       "<style>\n",
       ".list-inline {list-style: none; margin:0; padding: 0}\n",
       ".list-inline>li {display: inline-block}\n",
       ".list-inline>li:not(:last-child)::after {content: \"\\00b7\"; padding: 0 .5ex}\n",
       "</style>\n",
       "<ol class=list-inline><li>1.1626852897838</li><li>-0.585924465893051</li><li>1.78546500331661</li><li>-1.33259371048501</li><li>-0.446566766553219</li><li>0.569606122374976</li><li>-2.88971761441412</li><li>-0.869018343326555</li><li>-0.461702683149641</li><li>-0.555540910137444</li><li>-0.0201353678515895</li><li>-0.150382224136063</li><li>-0.628126755843964</li><li>1.32322085193283</li><li>-1.52135057001199</li><li>-0.437427868856691</li><li>0.970577579543399</li><li>0.0282226444247749</li><li>-0.0857821886527593</li><li>0.389214404984942</li></ol>\n"
      ],
      "text/latex": [
       "\\begin{enumerate*}\n",
       "\\item 1.1626852897838\n",
       "\\item -0.585924465893051\n",
       "\\item 1.78546500331661\n",
       "\\item -1.33259371048501\n",
       "\\item -0.446566766553219\n",
       "\\item 0.569606122374976\n",
       "\\item -2.88971761441412\n",
       "\\item -0.869018343326555\n",
       "\\item -0.461702683149641\n",
       "\\item -0.555540910137444\n",
       "\\item -0.0201353678515895\n",
       "\\item -0.150382224136063\n",
       "\\item -0.628126755843964\n",
       "\\item 1.32322085193283\n",
       "\\item -1.52135057001199\n",
       "\\item -0.437427868856691\n",
       "\\item 0.970577579543399\n",
       "\\item 0.0282226444247749\n",
       "\\item -0.0857821886527593\n",
       "\\item 0.389214404984942\n",
       "\\end{enumerate*}\n"
      ],
      "text/markdown": [
       "1. 1.1626852897838\n",
       "2. -0.585924465893051\n",
       "3. 1.78546500331661\n",
       "4. -1.33259371048501\n",
       "5. -0.446566766553219\n",
       "6. 0.569606122374976\n",
       "7. -2.88971761441412\n",
       "8. -0.869018343326555\n",
       "9. -0.461702683149641\n",
       "10. -0.555540910137444\n",
       "11. -0.0201353678515895\n",
       "12. -0.150382224136063\n",
       "13. -0.628126755843964\n",
       "14. 1.32322085193283\n",
       "15. -1.52135057001199\n",
       "16. -0.437427868856691\n",
       "17. 0.970577579543399\n",
       "18. 0.0282226444247749\n",
       "19. -0.0857821886527593\n",
       "20. 0.389214404984942\n",
       "\n",
       "\n"
      ],
      "text/plain": [
       " [1]  1.16268529 -0.58592447  1.78546500 -1.33259371 -0.44656677  0.56960612\n",
       " [7] -2.88971761 -0.86901834 -0.46170268 -0.55554091 -0.02013537 -0.15038222\n",
       "[13] -0.62812676  1.32322085 -1.52135057 -0.43742787  0.97057758  0.02822264\n",
       "[19] -0.08578219  0.38921440"
      ]
     },
     "metadata": {},
     "output_type": "display_data"
    },
    {
     "data": {
      "text/html": [
       "<style>\n",
       ".list-inline {list-style: none; margin:0; padding: 0}\n",
       ".list-inline>li {display: inline-block}\n",
       ".list-inline>li:not(:last-child)::after {content: \"\\00b7\"; padding: 0 .5ex}\n",
       "</style>\n",
       "<ol class=list-inline><li>TRUE</li><li>TRUE</li><li>TRUE</li><li>TRUE</li><li>TRUE</li><li>TRUE</li><li>TRUE</li><li>TRUE</li><li>TRUE</li><li>TRUE</li><li>TRUE</li><li>TRUE</li><li>TRUE</li><li>TRUE</li><li>TRUE</li><li>TRUE</li><li>TRUE</li><li>TRUE</li><li>TRUE</li><li>TRUE</li></ol>\n"
      ],
      "text/latex": [
       "\\begin{enumerate*}\n",
       "\\item TRUE\n",
       "\\item TRUE\n",
       "\\item TRUE\n",
       "\\item TRUE\n",
       "\\item TRUE\n",
       "\\item TRUE\n",
       "\\item TRUE\n",
       "\\item TRUE\n",
       "\\item TRUE\n",
       "\\item TRUE\n",
       "\\item TRUE\n",
       "\\item TRUE\n",
       "\\item TRUE\n",
       "\\item TRUE\n",
       "\\item TRUE\n",
       "\\item TRUE\n",
       "\\item TRUE\n",
       "\\item TRUE\n",
       "\\item TRUE\n",
       "\\item TRUE\n",
       "\\end{enumerate*}\n"
      ],
      "text/markdown": [
       "1. TRUE\n",
       "2. TRUE\n",
       "3. TRUE\n",
       "4. TRUE\n",
       "5. TRUE\n",
       "6. TRUE\n",
       "7. TRUE\n",
       "8. TRUE\n",
       "9. TRUE\n",
       "10. TRUE\n",
       "11. TRUE\n",
       "12. TRUE\n",
       "13. TRUE\n",
       "14. TRUE\n",
       "15. TRUE\n",
       "16. TRUE\n",
       "17. TRUE\n",
       "18. TRUE\n",
       "19. TRUE\n",
       "20. TRUE\n",
       "\n",
       "\n"
      ],
      "text/plain": [
       " [1] TRUE TRUE TRUE TRUE TRUE TRUE TRUE TRUE TRUE TRUE TRUE TRUE TRUE TRUE TRUE\n",
       "[16] TRUE TRUE TRUE TRUE TRUE"
      ]
     },
     "metadata": {},
     "output_type": "display_data"
    }
   ],
   "source": [
    "#sample : sample takes two arguments: a vector named x and a number named size ample will return size elements from the vector\n",
    "sample(x = 1:4, size = 2)\n",
    "\n",
    "\n",
    "#seq() function generates a sequence of numbers.\n",
    "#Generate a sequence from -5 to 5\n",
    "x <- seq(-5,5)\n",
    "x\n",
    "\n",
    "#rep(x) function replicates the values x\n",
    "rep(8,4)\n",
    "\n",
    "\n",
    "#round(x, digits=0) function rounds to the specified number of decimals\n",
    "a <- rnorm(1)\n",
    "a\n",
    "round(a,3)\n",
    "\n",
    "#factorial(n) function computes the factorial of n, n!\n",
    "factorial(4)\n",
    "\n",
    "#ls() function return a vector of character strings giving the names of the objects in the specified environment. When invoked with no argument, ls shows what data sets and functions a user has defined. When invoked with no argument inside a function, ls returns the names of the function's local variables: this is useful in conjunction with browser.\n",
    "ls()\n",
    "\n",
    "#mean() function calculates the arithmetic mean.\n",
    "m <- c(1,2,3,4,5,6)\n",
    "mean(m)\n",
    "\n",
    "#set.seed() function is the recommended way to specify seeds.\n",
    "#R has many functions for generating random data, such as rnorm(), rexp(), rpois() etc. But, the random data generated will be different each time. This will cause analysis results based on these random datasets not repeatable.\n",
    "\n",
    "set.seed(20)\n",
    "x1 <- rnorm(20)\n",
    "x1\n",
    "\n",
    "set.seed(20)\n",
    "x2 <- rnorm(20)\n",
    "x2\n",
    "\n",
    "x1 == x2"
   ]
  },
  {
   "cell_type": "markdown",
   "metadata": {},
   "source": [
    "# Ex6: Write a program to calculate the BMI rate?Get the user input & Result should be in integer. "
   ]
  },
  {
   "cell_type": "code",
   "execution_count": 7,
   "metadata": {},
   "outputs": [
    {
     "name": "stdout",
     "output_type": "stream",
     "text": [
      "[1] \"BMI Calc\"\n"
     ]
    },
    {
     "name": "stdin",
     "output_type": "stream",
     "text": [
      "Enter weight(kg):  74\n",
      "Enter height(cm):  168\n"
     ]
    },
    {
     "data": {
      "text/html": [
       "26.2"
      ],
      "text/latex": [
       "26.2"
      ],
      "text/markdown": [
       "26.2"
      ],
      "text/plain": [
       "[1] 26.2"
      ]
     },
     "metadata": {},
     "output_type": "display_data"
    },
    {
     "data": {
      "text/html": [
       "'overweight'"
      ],
      "text/latex": [
       "'overweight'"
      ],
      "text/markdown": [
       "'overweight'"
      ],
      "text/plain": [
       "[1] \"overweight\""
      ]
     },
     "metadata": {},
     "output_type": "display_data"
    }
   ],
   "source": [
    "print(\"BMI Calc\")\n",
    "weight <- readline(prompt=\"Enter weight(kg): \")\n",
    "weight <- as.numeric(weight)\n",
    "height <- readline(prompt=\"Enter height(cm): \")\n",
    "height <- as.numeric(height)\n",
    "height <- height/100\n",
    "BMI <- (weight/(height^2))\n",
    "round(BMI, 1)\n",
    "\n",
    "category <- ifelse(BMI >= 30, \"obese\", \n",
    "               ifelse(BMI >=25, \"overweight\", \n",
    "                  ifelse(BMI >=18.5, \"normal\", \"underweight\")))\n",
    "category"
   ]
  },
  {
   "cell_type": "markdown",
   "metadata": {},
   "source": [
    "# Ex7: Create a function to calculate the BMI Rating? Result should be in integer?"
   ]
  },
  {
   "cell_type": "code",
   "execution_count": 6,
   "metadata": {},
   "outputs": [
    {
     "name": "stdin",
     "output_type": "stream",
     "text": [
      "Enter weight(kg):  74\n",
      "Enter height(cm):  168\n"
     ]
    },
    {
     "data": {
      "text/html": [
       "'26.2 =&gt; overweight'"
      ],
      "text/latex": [
       "'26.2 => overweight'"
      ],
      "text/markdown": [
       "'26.2 =&gt; overweight'"
      ],
      "text/plain": [
       "[1] \"26.2 => overweight\""
      ]
     },
     "metadata": {},
     "output_type": "display_data"
    }
   ],
   "source": [
    " calcBMI <- function(){ \n",
    "    weight <- readline(prompt=\"Enter weight(kg): \")\n",
    "    weight <- as.numeric(weight)\n",
    "    height <- readline(prompt=\"Enter height(cm): \")\n",
    "    height <- as.numeric(height)\n",
    "    height <- height/100\n",
    "    BMI <- (weight/(height^2))\n",
    "    BMI\n",
    "    category <- ifelse(BMI >= 30, \"obese\", \n",
    "               ifelse(BMI >=25, \"overweight\", \n",
    "                  ifelse(BMI >=18.5, \"normal\", \"underweight\")))\n",
    "    paste(round(BMI,1), \"=>\",category)\n",
    "}\n",
    "\n",
    "calcBMI()\n",
    "\n"
   ]
  }
 ],
 "metadata": {
  "kernelspec": {
   "display_name": "R",
   "language": "R",
   "name": "ir"
  },
  "language_info": {
   "codemirror_mode": "r",
   "file_extension": ".r",
   "mimetype": "text/x-r-source",
   "name": "R",
   "pygments_lexer": "r",
   "version": "3.6.3"
  }
 },
 "nbformat": 4,
 "nbformat_minor": 4
}
